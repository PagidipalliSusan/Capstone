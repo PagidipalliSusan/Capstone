{
 "cells": [
  {
   "cell_type": "code",
   "execution_count": 1,
   "id": "e5e9de26-78e4-4eb2-81f8-49d0770c6f12",
   "metadata": {},
   "outputs": [
    {
     "name": "stdout",
     "output_type": "stream",
     "text": [
      "File 'C:/snowflake1/data/transactions.csv' uploaded to bucket 'capstone-12' as 'csv/transactions.csv'.\n",
      "File 'C:/snowflake1/data/accounts.csv' uploaded to bucket 'capstone-12' as 'csv/accounts.csv'.\n",
      "File 'C:/snowflake1/data/customers.csv' uploaded to bucket 'capstone-12' as 'csv/customers.csv'.\n",
      "File 'C:/snowflake1/data/credit_data.csv' uploaded to bucket 'capstone-12' as 'csv/credit_data.csv'.\n"
     ]
    }
   ],
   "source": [
    "import boto3\n",
    "from botocore.exceptions import NoCredentialsError, PartialCredentialsError\n",
    "\n",
    "def upload_file_to_s3(local_file_path, bucket_name, s3_file_key):\n",
    "    \"\"\"\n",
    "    Uploads a file to an S3 bucket.\n",
    "    :param local_file_path: Path to the local file\n",
    "    :param bucket_name: Name of the S3 bucket\n",
    "    :param s3_file_key: S3 object key (path within the bucket)\n",
    "    \"\"\"\n",
    "    # Create an S3 client\n",
    "    s3_client = boto3.client('s3',\n",
    "        aws_access_key_id='**********************',       # Replace with your actual access key\n",
    "        aws_secret_access_key='****************************************'  # Replace with your actual secret key\n",
    "    )\n",
    "\n",
    "    try:\n",
    "        # Upload file to S3 bucket\n",
    "        s3_client.upload_file(local_file_path, bucket_name, s3_file_key)\n",
    "        print(f\"File '{local_file_path}' uploaded to bucket '{bucket_name}' as '{s3_file_key}'.\")\n",
    "    except FileNotFoundError:\n",
    "        print(f\"The file '{local_file_path}' was not found.\")\n",
    "    except NoCredentialsError:\n",
    "        print(\"Credentials not available.\")\n",
    "    except PartialCredentialsError:\n",
    "        print(\"Incomplete credentials provided.\")\n",
    "    except Exception as e:\n",
    "        print(f\"An error occurred: {e}\")\n",
    "\n",
    "# List of local files and their corresponding S3 keys\n",
    "files_to_upload = [\n",
    "    ('C:/snowflake1/data/transactions.csv', 'csv/transactions.csv'),\n",
    "    ('C:/snowflake1/data/accounts.csv', 'csv/accounts.csv'),\n",
    "    ('C:/snowflake1/data/customers.csv', 'csv/customers.csv'),\n",
    "    ('C:/snowflake1/data/credit_data.csv', 'csv/credit_data.csv')\n",
    "]\n",
    "\n",
    "bucket_name = 'capstone-12'  # Update with your bucket name\n",
    "\n",
    "# Loop through each file and upload it to S3\n",
    "for local_file_path, s3_file_key in files_to_upload:\n",
    "    upload_file_to_s3(local_file_path, bucket_name, s3_file_key)\n"
   ]
  },
  {
   "cell_type": "code",
   "execution_count": null,
   "id": "cbd94d82-752d-4510-899e-9abe09722d45",
   "metadata": {},
   "outputs": [],
   "source": []
  },
  {
   "cell_type": "code",
   "execution_count": null,
   "id": "dcc114e6-ffcd-4989-a876-2bd5ba9638d2",
   "metadata": {},
   "outputs": [],
   "source": []
  },
  {
   "cell_type": "code",
   "execution_count": null,
   "id": "fda1a821-f48c-4751-a879-a744ca49f25b",
   "metadata": {},
   "outputs": [],
   "source": []
  }
 ],
 "metadata": {
  "kernelspec": {
   "display_name": "Python 3 (ipykernel)",
   "language": "python",
   "name": "python3"
  },
  "language_info": {
   "codemirror_mode": {
    "name": "ipython",
    "version": 3
   },
   "file_extension": ".py",
   "mimetype": "text/x-python",
   "name": "python",
   "nbconvert_exporter": "python",
   "pygments_lexer": "ipython3",
   "version": "3.11.7"
  }
 },
 "nbformat": 4,
 "nbformat_minor": 5
}
